{
 "cells": [
  {
   "cell_type": "code",
   "execution_count": 9,
   "metadata": {
    "collapsed": false,
    "scrolled": true
   },
   "outputs": [
    {
     "name": "stdout",
     "output_type": "stream",
     "text": [
      "Training model...\n",
      "Total number of samples: 120\n",
      "Steps per epoch: 24\n",
      "================================================================================\n",
      "Epoch: 1, Loss: 3.406\n",
      "Epoch: 501, Loss: 0.205\n",
      "Epoch: 1000, Loss: 0.061"
     ]
    }
   ],
   "source": [
    "from sklearn.datasets import load_iris\n",
    "from sklearn.preprocessing import OneHotEncoder\n",
    "from sklearn.model_selection import train_test_split\n",
    "import numpy as np\n",
    "from Gnarl import Gnarl\n",
    "\n",
    "data = load_iris()\n",
    "\n",
    "X = data.data\n",
    "y = data.target\n",
    "\n",
    "enc = OneHotEncoder()\n",
    "y = enc.fit_transform(y.reshape(-1,1)).toarray()\n",
    "\n",
    "y_dim = 3\n",
    "\n",
    "X = (X - np.mean(X, axis=0))/np.std(X, axis=0)\n",
    "\n",
    "# Train and test set\n",
    "X_train, X_test, y_train, y_test = train_test_split(X, y, test_size=0.2)\n",
    "\n",
    "nn_options = {\n",
    "    'activation': 'leaky_relu',\n",
    "    'learning_rate': 1e-4,\n",
    "    'regularization': 0.,\n",
    "    'random_state': 50,\n",
    "    'verbose': True,\n",
    "    'loss': 'cross_entropy',\n",
    "    'batch_size': 5\n",
    "}\n",
    "\n",
    "gnarl = Gnarl(X, y, **nn_options)\n",
    "\n",
    "# Add first hidden layer\n",
    "gnarl.hidden_layer(10, activation='leaky_relu')\n",
    "\n",
    "# Add second hidden layer\n",
    "gnarl.hidden_layer(5, activation='leaky_relu')\n",
    "\n",
    "# Add output layer\n",
    "gnarl.hidden_layer(y_dim, activation='none')\n",
    "\n",
    "# Connect the layers\n",
    "gnarl.connect_layers()\n",
    "\n",
    "# Train the model by sampling from all training data\n",
    "gnarl.fit(X_train, y_train, solver='gd', epochs=1)\n",
    "\n",
    "# Predict outputs\n",
    "y_pred = gnarl.predict(X_test, truncate_labels=True)"
   ]
  },
  {
   "cell_type": "code",
   "execution_count": 5,
   "metadata": {
    "collapsed": false
   },
   "outputs": [
    {
     "data": {
      "text/plain": [
       "array([1, 1, 0, 1, 1, 0, 1, 0, 1, 1, 1, 1, 1, 1, 1, 1, 1, 1, 0, 1, 1, 0, 0,\n",
       "       1, 1, 0, 0, 1, 1, 1])"
      ]
     },
     "execution_count": 5,
     "metadata": {},
     "output_type": "execute_result"
    }
   ],
   "source": [
    "y_pred\n",
    "#y_pred = np.exp(y_pred)/np.sum(np.exp(y_pred))\n",
    "#y_pred_ohe = enc.transform(y_pred.reshape(-1,1)).toarray().astype(int)"
   ]
  },
  {
   "cell_type": "code",
   "execution_count": 6,
   "metadata": {
    "collapsed": false
   },
   "outputs": [
    {
     "name": "stdout",
     "output_type": "stream",
     "text": [
      "1 [ 0.  0.  1.]\n",
      "1 [ 0.  0.  1.]\n",
      "0 [ 1.  0.  0.]\n",
      "1 [ 0.  0.  1.]\n",
      "1 [ 0.  1.  0.]\n",
      "0 [ 1.  0.  0.]\n",
      "1 [ 0.  0.  1.]\n",
      "0 [ 1.  0.  0.]\n",
      "1 [ 0.  0.  1.]\n",
      "1 [ 0.  1.  0.]\n",
      "1 [ 0.  1.  0.]\n",
      "1 [ 0.  0.  1.]\n",
      "1 [ 0.  0.  1.]\n",
      "1 [ 0.  1.  0.]\n",
      "1 [ 0.  0.  1.]\n",
      "1 [ 0.  1.  0.]\n",
      "1 [ 0.  0.  1.]\n",
      "1 [ 0.  0.  1.]\n",
      "0 [ 1.  0.  0.]\n",
      "1 [ 0.  0.  1.]\n",
      "1 [ 0.  1.  0.]\n",
      "0 [ 1.  0.  0.]\n",
      "0 [ 1.  0.  0.]\n",
      "1 [ 0.  1.  0.]\n",
      "1 [ 0.  1.  0.]\n",
      "0 [ 1.  0.  0.]\n",
      "0 [ 1.  0.  0.]\n",
      "1 [ 0.  1.  0.]\n",
      "1 [ 0.  0.  1.]\n",
      "1 [ 0.  0.  1.]\n"
     ]
    }
   ],
   "source": [
    "for i,j in zip(y_pred, y_test):\n",
    "    print(i, j)"
   ]
  },
  {
   "cell_type": "code",
   "execution_count": null,
   "metadata": {
    "collapsed": true
   },
   "outputs": [],
   "source": []
  }
 ],
 "metadata": {
  "kernelspec": {
   "display_name": "Py3 Machine Learning",
   "language": "python",
   "name": "machine_learning"
  },
  "language_info": {
   "codemirror_mode": {
    "name": "ipython",
    "version": 3
   },
   "file_extension": ".py",
   "mimetype": "text/x-python",
   "name": "python",
   "nbconvert_exporter": "python",
   "pygments_lexer": "ipython3",
   "version": "3.6.0"
  }
 },
 "nbformat": 4,
 "nbformat_minor": 2
}
